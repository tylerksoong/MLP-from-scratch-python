{
 "cells": [
  {
   "cell_type": "code",
   "execution_count": null,
   "metadata": {},
   "outputs": [],
   "source": [
    "### "
   ]
  },
  {
   "cell_type": "markdown",
   "metadata": {},
   "source": [
    "### Backpropogation Derivation\n",
    "\n",
    "In my model trained on the MNIST dataset, I use a cross-entropy loss function and sigmoid activation function\n",
    "\n",
    "The cross entropy error function is\n",
    "\n",
    "$$\n",
    "\\mathcal{L}() = -\\frac{1}{N} \\sum_{i=1}^{N} \\sum_{j=1}^{C} y_{i,j} \\log \\hat{y}_{i,j}\n",
    "$$\n"
   ]
  }
 ],
 "metadata": {
  "language_info": {
   "name": "python"
  }
 },
 "nbformat": 4,
 "nbformat_minor": 2
}
